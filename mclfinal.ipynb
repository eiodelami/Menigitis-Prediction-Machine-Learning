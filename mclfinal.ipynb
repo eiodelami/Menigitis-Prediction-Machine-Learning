{
 "cells": [
  {
   "cell_type": "code",
   "execution_count": 2,
   "metadata": {
    "scrolled": true
   },
   "outputs": [],
   "source": [
    "# Import libraries\n",
    "\n",
    "# First, let’s import all of the modules, functions and objects we are going to use in this tutorial.\n",
    "\n",
    "# Load libraries\n",
    "import pandas# libraries to read in the .CSV file\n",
    "import numpy\n",
    "from pandas.plotting import scatter_matrix\n",
    "import matplotlib.pyplot as plt\n",
    "from sklearn import model_selection # sci-kit learning http://scikit-learn.org/stable/\n",
    "from sklearn.metrics import classification_report # measurement\n",
    "from sklearn.metrics import confusion_matrix\n",
    "from sklearn.metrics import accuracy_score\n",
    "\n",
    "from sklearn.linear_model import LogisticRegression\n",
    "from sklearn.neighbors import KNeighborsClassifier\n",
    "from sklearn.discriminant_analysis import LinearDiscriminantAnalysis\n",
    "from sklearn.naive_bayes import GaussianNB\n",
    "from sklearn.svm import SVC\n",
    "\n"
   ]
  },
  {
   "cell_type": "code",
   "execution_count": 3,
   "metadata": {
    "scrolled": true
   },
   "outputs": [
    {
     "name": "stdout",
     "output_type": "stream",
     "text": [
      "(2000, 17)\n"
     ]
    },
    {
     "data": {
      "text/plain": [
       "\"\\n#population\\npopulation = {2009:154324933,2010:158503197,2011:162805071,2012:167228767,2013:171765769,2014:176404902,2015:181137448,2016:185960289,2017:190873311,2018:195874740}\\nprint(population[2009])\\n\\n#GNI\\nGNI = {2009:2040,2010:2140,2011:2190,2012:2460,2013:2720,2014:2990,2015:2880,2016:2470,2017:2100,2018:1960}\\nprint(GNI[2009])\\n\\n#GDP\\nGDP = {2009:291880204327.419, 2010:363359886203.409, 2011:410334579160.752, 2012:459376049763.999, 2013:514966287334.277, 2014:568498937615.656, 2015:494583180777.103, 2016:404649527537.753, 2017:375745486520.656, 2018:397269616080.908}\\n\\n\\nzero = numpy.zeros(284484)\\n\\ndataset3['population'] = zero\\ndataset3['gdp'] = zero\\ndataset3['gni'] = zero\\n\\n# 改population,gdp, gni\\ncount = len(dataset3.index)\\nfor i in range(0,count): #遍历每一个数据\\n    dataset3.iloc[i,17] = population[dataset3.iloc[i,3]] #改变人口\\n    dataset3.iloc[i,18] = GDP[dataset3.iloc[i,3]] #改变GDP\\n    dataset3.iloc[i,19] = GNI[dataset3.iloc[i,3]] #改变GNI\\n\\nprint(dataset3.head(20))\\n\""
      ]
     },
     "execution_count": 3,
     "metadata": {},
     "output_type": "execute_result"
    }
   ],
   "source": [
    "# dataset3 = dataset3.drop('temperature',1)\n",
    "# dataset3 = dataset3.drop('rainfall',1)\n",
    "\n",
    "readdata = pandas.read_csv('output.csv', nrows=2000)\n",
    "#dataset = pandas.DataFrame(readdata, columns=[\"id\",\"surname\",\"firstname\",\"middlename\",\"gender_male\",\"gender_female\",\"state\",\"settlement\",\"rural_settlement\",\"urban_settlement\",\"report_date\",\"report_year\",\"age\",\"age_str\",\"date_of_birth\",\"child_group\",\"a\",\"disease\",\"cholera\",\"diarrhoea\",\"measles\",\"viral_haemmorrhaphic_fever\",\"meningitis\",\"ebola\",\"marburg_virus\",\"yellow_fever\",\"rubella_mars\",\"malaria\",\"serotype\",\"NmA\",\"NmC\",\"NmW\",\"alive\",\"dead\",\"report_outcome\",\"unconfirmed\",\"confirmed\",\"null_serotype\"])\n",
    "dataset3 = pandas.DataFrame(readdata, columns=[\"gender_male\",\"state\",\"urban_settlement\",\"report_year\",\n",
    "                                               \"age\",\"cholera\",\"diarrhoea\",\"measles\",\"viral_haemmorrhaphic_fever\",\n",
    "                                               \"meningitis\",\"yellow_fever\",\"rubella_mars\",\"malaria\",\"NmA\",\"NmC\",\"NmW\",\n",
    "                                               \"confirmed\"])#,\"population\",\"gdp\",\"gni\"])\n",
    "print(dataset3.shape)\n",
    "\n",
    "\"\"\"\n",
    "#population\n",
    "population = {2009:154324933,2010:158503197,2011:162805071,2012:167228767,2013:171765769,2014:176404902,2015:181137448,2016:185960289,2017:190873311,2018:195874740}\n",
    "print(population[2009])\n",
    "\n",
    "#GNI\n",
    "GNI = {2009:2040,2010:2140,2011:2190,2012:2460,2013:2720,2014:2990,2015:2880,2016:2470,2017:2100,2018:1960}\n",
    "print(GNI[2009])\n",
    "\n",
    "#GDP\n",
    "GDP = {2009:291880204327.419, 2010:363359886203.409, 2011:410334579160.752, 2012:459376049763.999, 2013:514966287334.277, 2014:568498937615.656, 2015:494583180777.103, 2016:404649527537.753, 2017:375745486520.656, 2018:397269616080.908}\n",
    "\n",
    "\n",
    "zero = numpy.zeros(284484)\n",
    "\n",
    "dataset3['population'] = zero\n",
    "dataset3['gdp'] = zero\n",
    "dataset3['gni'] = zero\n",
    "\n",
    "# 改population,gdp, gni\n",
    "count = len(dataset3.index)\n",
    "for i in range(0,count): #遍历每一个数据\n",
    "    dataset3.iloc[i,17] = population[dataset3.iloc[i,3]] #改变人口\n",
    "    dataset3.iloc[i,18] = GDP[dataset3.iloc[i,3]] #改变GDP\n",
    "    dataset3.iloc[i,19] = GNI[dataset3.iloc[i,3]] #改变GNI\n",
    "\n",
    "print(dataset3.head(20))\n",
    "\"\"\"\n"
   ]
  },
  {
   "cell_type": "code",
   "execution_count": 4,
   "metadata": {},
   "outputs": [
    {
     "data": {
      "image/png": "[encoded data removed]",
      "text/plain": [
       "<Figure size 288x288 with 2 Axes>"
      ]
     },
     "metadata": {
      "needs_background": "light"
     },
     "output_type": "display_data"
    }
   ],
   "source": [
    "#dataset3.to_csv(r'output.csv')\n",
    "import matplotlib.pyplot as plt\n",
    "plt.matshow(dataset3.corr())\n",
    "colorbar = plt.colorbar()\n",
    "plt.show()"
   ]
  },
  {
   "cell_type": "code",
   "execution_count": 5,
   "metadata": {},
   "outputs": [],
   "source": [
    "a = [\"gender_male\",\"state\",\"urban_settlement\",\"age\",\"cholera\",\n",
    "     \"diarrhoea\",\"measles\",\"viral_haemmorrhaphic_fever\",\"yellow_fever\",\n",
    "     \"rubella_mars\",\"malaria\",\"NmA\",\"NmC\",\"NmW\",\"confirmed\",\"meningitis\"]#,\"population\",\"gdp\",\"gni\"]"
   ]
  },
  {
   "cell_type": "code",
   "execution_count": 6,
   "metadata": {},
   "outputs": [
    {
     "name": "stdout",
     "output_type": "stream",
     "text": [
      "     0         1    2         3    4    5    6    7    8    9    10   11   12  \\\n",
      "0   1.0  0.277778  0.0  0.415584  0.0  0.0  0.0  0.0  0.0  0.0  0.0  0.0  0.0   \n",
      "1   0.0  0.750000  1.0  0.311688  0.0  0.0  0.0  0.0  0.0  0.0  0.0  0.0  0.0   \n",
      "2   0.0  0.777778  0.0  0.818182  0.0  0.0  1.0  0.0  0.0  0.0  0.0  0.0  0.0   \n",
      "3   1.0  0.833333  1.0  0.116883  0.0  0.0  0.0  0.0  0.0  1.0  0.0  0.0  0.0   \n",
      "4   0.0  0.500000  0.0  0.571429  0.0  0.0  0.0  0.0  0.0  0.0  0.0  0.0  0.0   \n",
      "5   0.0  0.944444  0.0  0.792208  0.0  0.0  0.0  0.0  1.0  0.0  0.0  0.0  0.0   \n",
      "6   1.0  0.555556  0.0  0.000000  0.0  1.0  0.0  0.0  0.0  0.0  0.0  0.0  0.0   \n",
      "7   1.0  0.555556  0.0  0.701299  0.0  0.0  0.0  0.0  0.0  1.0  0.0  0.0  0.0   \n",
      "8   0.0  0.805556  1.0  0.194805  0.0  0.0  0.0  0.0  0.0  0.0  0.0  0.0  0.0   \n",
      "9   0.0  0.722222  1.0  0.220779  1.0  0.0  0.0  0.0  0.0  0.0  0.0  0.0  0.0   \n",
      "10  1.0  0.222222  0.0  0.649351  0.0  1.0  0.0  0.0  0.0  0.0  0.0  0.0  0.0   \n",
      "11  1.0  0.027778  1.0  0.051948  0.0  0.0  1.0  0.0  0.0  0.0  0.0  0.0  0.0   \n",
      "12  1.0  0.694444  0.0  0.038961  0.0  0.0  0.0  0.0  0.0  0.0  0.0  0.0  0.0   \n",
      "13  0.0  0.277778  1.0  0.766234  0.0  0.0  0.0  0.0  0.0  0.0  0.0  1.0  0.0   \n",
      "14  0.0  0.444444  1.0  0.001082  0.0  0.0  0.0  0.0  0.0  0.0  0.0  0.0  0.0   \n",
      "15  1.0  0.277778  1.0  0.636364  0.0  0.0  0.0  0.0  0.0  0.0  0.0  0.0  0.0   \n",
      "16  1.0  0.000000  1.0  0.623377  0.0  0.0  0.0  0.0  0.0  0.0  0.0  1.0  0.0   \n",
      "17  0.0  0.722222  1.0  0.389610  1.0  0.0  0.0  0.0  0.0  0.0  0.0  0.0  0.0   \n",
      "18  0.0  0.027778  0.0  0.506494  0.0  0.0  0.0  0.0  0.0  0.0  1.0  0.0  0.0   \n",
      "19  0.0  0.972222  0.0  0.649351  0.0  0.0  0.0  0.0  0.0  1.0  0.0  0.0  0.0   \n",
      "\n",
      "     13   14   15  \n",
      "0   1.0  0.0  0.0  \n",
      "1   1.0  0.0  0.0  \n",
      "2   1.0  0.0  0.0  \n",
      "3   1.0  0.0  0.0  \n",
      "4   1.0  0.0  0.0  \n",
      "5   1.0  1.0  0.0  \n",
      "6   1.0  0.0  0.0  \n",
      "7   1.0  0.0  0.0  \n",
      "8   1.0  0.0  0.0  \n",
      "9   1.0  0.0  0.0  \n",
      "10  1.0  0.0  0.0  \n",
      "11  1.0  1.0  0.0  \n",
      "12  1.0  0.0  0.0  \n",
      "13  0.0  0.0  1.0  \n",
      "14  1.0  0.0  1.0  \n",
      "15  1.0  0.0  1.0  \n",
      "16  0.0  0.0  1.0  \n",
      "17  1.0  1.0  0.0  \n",
      "18  1.0  0.0  0.0  \n",
      "19  1.0  0.0  0.0  \n"
     ]
    }
   ],
   "source": [
    "dataset_train = dataset3[dataset3.report_year != 2018] #挑出2018年的数据\n",
    "dataset_train.reset_index(inplace=True) #重设index\n",
    "dataset_train = dataset_train.drop('index',1)\n",
    "dataset_train = dataset_train.drop('report_year',1)\n",
    "dataset_train = dataset_train[a]\n",
    "#print(dataset_train.head(20))\n",
    "\n",
    "#plt.matshow(dataset_train.corr())\n",
    "#colorbar = plt.colorbar()\n",
    "#plt.show()\n",
    "\n",
    "#print(dataset_train.shape)\n",
    "from sklearn import preprocessing\n",
    "interm_x_train = dataset_train.values\n",
    "scaler = preprocessing.MinMaxScaler()\n",
    "scaled_x_train = scaler.fit_transform(interm_x_train)\n",
    "dataset_train= pandas.DataFrame(scaled_x_train)\n",
    "print(dataset_train.head(20))"
   ]
  },
  {
   "cell_type": "code",
   "execution_count": 7,
   "metadata": {
    "scrolled": true
   },
   "outputs": [
    {
     "name": "stdout",
     "output_type": "stream",
     "text": [
      "(1802, 16)\n",
      "[[1.         0.27777778 0.         ... 0.         1.         0.        ]\n",
      " [0.         0.75       1.         ... 0.         1.         0.        ]\n",
      " [0.         0.77777778 0.         ... 0.         1.         0.        ]\n",
      " ...\n",
      " [0.         0.30555556 1.         ... 0.         1.         0.        ]\n",
      " [1.         0.88888889 0.         ... 0.         1.         1.        ]\n",
      " [1.         0.33333333 0.         ... 0.         1.         0.        ]]\n",
      "[0. 0. 0. ... 0. 0. 0.]\n"
     ]
    }
   ],
   "source": [
    "array = dataset_train.values\n",
    "print(dataset_train.shape)\n",
    "X_train = array[:,0:15]\n",
    "y_train = array[:,15]\n",
    "print(X_train)\n",
    "print(y_train)"
   ]
  },
  {
   "cell_type": "code",
   "execution_count": 8,
   "metadata": {
    "scrolled": true
   },
   "outputs": [
    {
     "name": "stdout",
     "output_type": "stream",
     "text": [
      "     0         1    2         3    4    5    6    7    8    9    10   11   12  \\\n",
      "0   0.0  0.888889  0.0  0.410256  1.0  0.0  0.0  0.0  0.0  0.0  0.0  0.0  0.0   \n",
      "1   0.0  0.472222  0.0  0.576923  0.0  0.0  0.0  0.0  0.0  0.0  0.0  0.0  0.0   \n",
      "2   1.0  0.194444  0.0  0.064103  0.0  0.0  0.0  1.0  0.0  0.0  0.0  0.0  0.0   \n",
      "3   0.0  0.027778  1.0  0.923077  0.0  0.0  0.0  0.0  1.0  0.0  0.0  0.0  0.0   \n",
      "4   1.0  0.555556  1.0  0.846154  0.0  0.0  0.0  0.0  0.0  0.0  0.0  0.0  0.0   \n",
      "5   1.0  0.583333  0.0  0.628205  1.0  0.0  0.0  0.0  0.0  0.0  0.0  0.0  0.0   \n",
      "6   1.0  0.444444  1.0  0.346154  0.0  1.0  0.0  0.0  0.0  0.0  0.0  0.0  0.0   \n",
      "7   1.0  0.527778  1.0  0.153846  0.0  0.0  1.0  0.0  0.0  0.0  0.0  0.0  0.0   \n",
      "8   1.0  0.833333  1.0  0.269231  0.0  0.0  0.0  0.0  0.0  1.0  0.0  0.0  0.0   \n",
      "9   0.0  0.944444  1.0  0.679487  0.0  0.0  0.0  0.0  0.0  0.0  0.0  0.0  0.0   \n",
      "10  1.0  0.361111  1.0  0.141026  0.0  0.0  0.0  1.0  0.0  0.0  0.0  0.0  0.0   \n",
      "11  0.0  0.888889  0.0  0.333333  0.0  0.0  1.0  0.0  0.0  0.0  0.0  0.0  0.0   \n",
      "12  0.0  0.972222  0.0  0.538462  0.0  0.0  0.0  0.0  0.0  0.0  1.0  0.0  0.0   \n",
      "13  1.0  0.500000  1.0  0.230769  0.0  0.0  0.0  0.0  0.0  1.0  0.0  0.0  0.0   \n",
      "14  0.0  0.416667  0.0  0.551282  0.0  0.0  0.0  0.0  0.0  0.0  0.0  0.0  0.0   \n",
      "15  1.0  0.750000  1.0  0.141026  0.0  1.0  0.0  0.0  0.0  0.0  0.0  0.0  0.0   \n",
      "16  0.0  0.777778  0.0  0.730769  1.0  0.0  0.0  0.0  0.0  0.0  0.0  0.0  0.0   \n",
      "17  0.0  0.861111  1.0  0.794872  0.0  0.0  1.0  0.0  0.0  0.0  0.0  0.0  0.0   \n",
      "18  1.0  0.416667  0.0  0.910256  0.0  0.0  0.0  0.0  0.0  0.0  1.0  0.0  0.0   \n",
      "19  0.0  0.611111  0.0  0.884615  0.0  1.0  0.0  0.0  0.0  0.0  0.0  0.0  0.0   \n",
      "\n",
      "     13   14   15  \n",
      "0   0.0  1.0  0.0  \n",
      "1   1.0  0.0  0.0  \n",
      "2   1.0  0.0  0.0  \n",
      "3   1.0  1.0  0.0  \n",
      "4   1.0  0.0  0.0  \n",
      "5   1.0  1.0  0.0  \n",
      "6   1.0  0.0  0.0  \n",
      "7   1.0  1.0  0.0  \n",
      "8   1.0  0.0  0.0  \n",
      "9   1.0  0.0  0.0  \n",
      "10  1.0  0.0  0.0  \n",
      "11  1.0  0.0  0.0  \n",
      "12  1.0  0.0  0.0  \n",
      "13  1.0  0.0  0.0  \n",
      "14  1.0  0.0  0.0  \n",
      "15  1.0  0.0  0.0  \n",
      "16  1.0  1.0  0.0  \n",
      "17  1.0  0.0  0.0  \n",
      "18  1.0  1.0  0.0  \n",
      "19  1.0  0.0  0.0  \n",
      "[[0.         0.88888889 0.         ... 0.         0.         1.        ]\n",
      " [0.         0.47222222 0.         ... 0.         1.         0.        ]\n",
      " [1.         0.19444444 0.         ... 0.         1.         0.        ]\n",
      " ...\n",
      " [1.         0.11111111 1.         ... 0.         1.         0.        ]\n",
      " [1.         0.72222222 0.         ... 0.         1.         0.        ]\n",
      " [1.         0.61111111 0.         ... 0.         1.         0.        ]]\n"
     ]
    }
   ],
   "source": [
    "dataset_test = dataset3[dataset3.report_year ==  2018] #挑出2018年的数据\n",
    "dataset_test.reset_index(inplace=True) #重设index\n",
    "dataset_test = dataset_test.drop('index',1)\n",
    "\n",
    "dataset_test = dataset_test[a]\n",
    "#print(dataset_test.head(20))\n",
    "#print(dataset_test.shape)\n",
    "\n",
    "interm_x_test = dataset_test.values\n",
    "scaled_x_test = scaler.fit_transform(interm_x_test)\n",
    "dataset_test= pandas.DataFrame(scaled_x_test)\n",
    "print(dataset_test.head(20))\n",
    "\n",
    "array = dataset_test.values\n",
    "X_test= array[:,0:15]\n",
    "y_test = array[:,15]\n",
    "print(X_test)"
   ]
  },
  {
   "cell_type": "code",
   "execution_count": 9,
   "metadata": {},
   "outputs": [
    {
     "name": "stdout",
     "output_type": "stream",
     "text": [
      "[[0.         0.88888889 0.         ... 0.         0.         1.        ]\n",
      " [0.         0.47222222 0.         ... 0.         1.         0.        ]\n",
      " [1.         0.19444444 0.         ... 0.         1.         0.        ]\n",
      " ...\n",
      " [1.         0.11111111 1.         ... 0.         1.         0.        ]\n",
      " [1.         0.72222222 0.         ... 0.         1.         0.        ]\n",
      " [1.         0.61111111 0.         ... 0.         1.         0.        ]]\n",
      "[[1.         0.27777778 0.         ... 0.         1.         0.        ]\n",
      " [0.         0.75       1.         ... 0.         1.         0.        ]\n",
      " [0.         0.77777778 0.         ... 0.         1.         0.        ]\n",
      " ...\n",
      " [0.         0.30555556 1.         ... 0.         1.         0.        ]\n",
      " [1.         0.88888889 0.         ... 0.         1.         1.        ]\n",
      " [1.         0.33333333 0.         ... 0.         1.         0.        ]]\n"
     ]
    }
   ],
   "source": [
    "#from sklearn import decomposition\n",
    "#pca = decomposition.PCA(n_components=8)\n",
    "#pca.fit(X_train)\n",
    "#pca.fit(X_test)\n",
    "#X_train = pca.transform(X_train)\n",
    "#X_test = pca.transform(X_test)\n",
    "\n",
    "print(X_test)\n",
    "print(X_train)"
   ]
  },
  {
   "cell_type": "code",
   "execution_count": 10,
   "metadata": {},
   "outputs": [
    {
     "data": {
      "text/plain": [
       "<matplotlib.legend.Legend at 0x15a85ccef98>"
      ]
     },
     "execution_count": 10,
     "metadata": {},
     "output_type": "execute_result"
    },
    {
     "data": {
      "image/png": "[encoded data removed]",
      "text/plain": [
       "<Figure size 432x288 with 1 Axes>"
      ]
     },
     "metadata": {
      "needs_background": "light"
     },
     "output_type": "display_data"
    }
   ],
   "source": [
    "#Decision Tree\n",
    "import numpy\n",
    "from sklearn.tree import DecisionTreeClassifier        #Decision Tree\n",
    "from sklearn.ensemble import RandomForestClassifier    #Random Forest\n",
    "from sklearn.neural_network import MLPClassifier\n",
    "\n",
    "training_accuracy = []\n",
    "test_accuracy = []\n",
    "\n",
    "max_dep = range(1,34)\n",
    "neighbors_setting = range(1,34) # can be modified\n",
    "min_samples_splits = numpy.linspace(0.1, 1.0, 10, endpoint=True)\n",
    "\n",
    "for md in max_dep:\n",
    "#for min_samples_split in min_samples_splits:\n",
    "        tree = DecisionTreeClassifier(max_depth=md)#,random_state=0,max_features=0.9)\n",
    "        tree.fit(X_train,y_train)\n",
    "        training_accuracy.append(tree.score(X_train, y_train))\n",
    "        test_accuracy.append(tree.score(X_test, y_test))\n",
    " \n",
    "\n",
    "plt.plot(max_dep,training_accuracy, label='Accuracy of the training set')\n",
    "plt.plot(neighbors_setting,test_accuracy, label='Accuracy of the test set')\n",
    "#plt.plot(min_samples_splits,training_accuracy, label='Accuracy of the training set')\n",
    "#plt.plot(min_samples_splits,test_accuracy, label='Accuracy of the test set')\n",
    "plt.ylabel('Accuracy')\n",
    "plt.xlabel('Max Depth')\n",
    "plt.legend()\n",
    "\n",
    "# by looking at plot, best result occurs when max_depth is > 4"
   ]
  },
  {
   "cell_type": "code",
   "execution_count": 11,
   "metadata": {},
   "outputs": [
    {
     "data": {
      "text/plain": [
       "<matplotlib.legend.Legend at 0x15a85d13400>"
      ]
     },
     "execution_count": 11,
     "metadata": {},
     "output_type": "execute_result"
    },
    {
     "data": {
      "image/png": "[encoded data removed]",
      "text/plain": [
       "<Figure size 432x288 with 1 Axes>"
      ]
     },
     "metadata": {
      "needs_background": "light"
     },
     "output_type": "display_data"
    }
   ],
   "source": [
    "#KNN\n",
    "training_accuracy = []\n",
    "test_accuracy = []\n",
    "\n",
    "#try KNN for diffrent k nearest neighbor from 1 to 15\n",
    "neighbors_setting = range(1,10) # can be modified\n",
    "\n",
    "for n_neighbors in neighbors_setting:\n",
    "    knn = KNeighborsClassifier(n_neighbors=n_neighbors)\n",
    "    knn.fit(X_train,y_train)\n",
    "    training_accuracy.append(knn.score(X_train, y_train))\n",
    "    test_accuracy.append(knn.score(X_test, y_test))\n",
    " \n",
    "plt.plot(neighbors_setting,training_accuracy, label='Accuracy of the training set')\n",
    "plt.plot(neighbors_setting,test_accuracy, label='Accuracy of the test set')\n",
    "plt.ylabel('Accuracy')\n",
    "plt.xlabel('Number of Neighbors')\n",
    "plt.legend()\n",
    "#by looking at plot, best result accurs when n_neighbors is 1-4\n"
   ]
  },
  {
   "cell_type": "code",
   "execution_count": 12,
   "metadata": {},
   "outputs": [
    {
     "name": "stdout",
     "output_type": "stream",
     "text": [
      "Accuracy on the training set: 0.954\n",
      "Accuracy on the test set: 0.955\n"
     ]
    },
    {
     "name": "stderr",
     "output_type": "stream",
     "text": [
      "C:\\Users\\Yifan Wang\\Anaconda3\\lib\\site-packages\\sklearn\\linear_model\\logistic.py:433: FutureWarning: Default solver will be changed to 'lbfgs' in 0.22. Specify a solver to silence this warning.\n",
      "  FutureWarning)\n"
     ]
    }
   ],
   "source": [
    "#logistic Regression #Remark: Logistic regression doesn't generate good results\n",
    "log_reg = LogisticRegression()\n",
    "log_reg.fit(X_train, y_train)\n",
    "\n",
    "print('Accuracy on the training set: {:.3f}'.format(log_reg.score(X_train,y_train)))\n",
    "print('Accuracy on the test set: {:.3f}'.format(log_reg.score(X_test,y_test)))\n",
    "\n",
    "#It seems as it does better than KNN"
   ]
  },
  {
   "cell_type": "code",
   "execution_count": 13,
   "metadata": {},
   "outputs": [
    {
     "name": "stdout",
     "output_type": "stream",
     "text": [
      "acc for training data: 0.997\n",
      "acc for test data: 0.944\n"
     ]
    }
   ],
   "source": [
    "#Random Forest\n",
    "from sklearn.ensemble import RandomForestClassifier \n",
    "forest = RandomForestClassifier(n_estimators=100, random_state=0)\n",
    "forest.fit(X_train,y_train)\n",
    "\n",
    "#you can tune parameter such as:\n",
    "# - n_job (how many cores)(n_job=-1 => all cores)\n",
    "# - max_depth\n",
    "# - max_feature\n",
    "\n",
    "\n",
    "print('acc for training data: {:.3f}'.format(forest.score(X_train,y_train)))\n",
    "print('acc for test data: {:.3f}'.format(forest.score(X_test,y_test)))"
   ]
  },
  {
   "cell_type": "code",
   "execution_count": 14,
   "metadata": {},
   "outputs": [
    {
     "name": "stdout",
     "output_type": "stream",
     "text": [
      "Iteration 1, loss = 0.68758405\n",
      "Iteration 2, loss = 0.34692024\n",
      "Iteration 3, loss = 0.27144431\n",
      "Iteration 4, loss = 0.27586190\n",
      "Iteration 5, loss = 0.26283255\n",
      "Iteration 6, loss = 0.25092417\n",
      "Iteration 7, loss = 0.24272330\n",
      "Iteration 8, loss = 0.23957489\n",
      "Iteration 9, loss = 0.23132016\n",
      "Iteration 10, loss = 0.22209329\n",
      "Iteration 11, loss = 0.21469291\n",
      "Iteration 12, loss = 0.20653186\n",
      "Iteration 13, loss = 0.19942677\n",
      "Iteration 14, loss = 0.19333965\n",
      "Iteration 15, loss = 0.18830032\n",
      "Iteration 16, loss = 0.18349661\n",
      "Iteration 17, loss = 0.17942782\n",
      "Iteration 18, loss = 0.17520356\n",
      "Iteration 19, loss = 0.17120970\n",
      "Iteration 20, loss = 0.18677952\n",
      "Iteration 21, loss = 0.16713707\n",
      "Iteration 22, loss = 0.16765263\n",
      "Iteration 23, loss = 0.17087254\n",
      "Iteration 24, loss = 0.16102434\n",
      "Iteration 25, loss = 0.15749721\n",
      "Iteration 26, loss = 0.16648935\n",
      "Iteration 27, loss = 0.15404921\n",
      "Iteration 28, loss = 0.15153931\n",
      "Iteration 29, loss = 0.14744146\n",
      "Iteration 30, loss = 0.15919987\n",
      "Iteration 31, loss = 0.14519326\n",
      "Iteration 32, loss = 0.16113382\n",
      "Iteration 33, loss = 0.14012942\n",
      "Iteration 34, loss = 0.15222215\n",
      "Iteration 35, loss = 0.15711539\n",
      "Iteration 36, loss = 0.14246407\n",
      "Iteration 37, loss = 0.14038132\n",
      "Iteration 38, loss = 0.13650576\n",
      "Iteration 39, loss = 0.13461552\n",
      "Iteration 40, loss = 0.17250762\n",
      "Iteration 41, loss = 0.14168595\n",
      "Iteration 42, loss = 0.13895965\n",
      "Iteration 43, loss = 0.13284772\n",
      "Iteration 44, loss = 0.13101963\n",
      "Iteration 45, loss = 0.12966259\n",
      "Iteration 46, loss = 0.13279745\n",
      "Iteration 47, loss = 0.12874006\n",
      "Iteration 48, loss = 0.12741673\n",
      "Iteration 49, loss = 0.12716429\n",
      "Iteration 50, loss = 0.12703124\n",
      "acc for training data: 0.954\n",
      "acc for test data: 0.955\n"
     ]
    },
    {
     "name": "stderr",
     "output_type": "stream",
     "text": [
      "C:\\Users\\Yifan Wang\\Anaconda3\\lib\\site-packages\\sklearn\\neural_network\\multilayer_perceptron.py:562: ConvergenceWarning: Stochastic Optimizer: Maximum iterations (50) reached and the optimization hasn't converged yet.\n",
      "  % self.max_iter, ConvergenceWarning)\n"
     ]
    },
    {
     "name": "stdout",
     "output_type": "stream",
     "text": [
      "acc for training data: 0.954\n",
      "acc for test data: 0.955\n",
      "Training set loss: 0.120066\n"
     ]
    }
   ],
   "source": [
    "from sklearn.neural_network import MLPClassifier\n",
    "#mlp = MLPClassifier(hidden_layer_sizes=(6,6,6,6,6,6,),max_iter=1000)\n",
    "mlp = MLPClassifier(solver='sgd', activation='relu',alpha=1e-4,hidden_layer_sizes=(50,50,50), \n",
    "                    random_state=20,max_iter=50,verbose=10,learning_rate_init=.01, learning_rate='adaptive')\n",
    "mlp.fit(X_train, y_train)\n",
    "\n",
    "print('acc for training data: {:.3f}'.format(mlp.score(X_train, y_train)))\n",
    "print('acc for test data: {:.3f}'.format(mlp.score(X_test, y_test)))\n",
    "\n",
    "from sklearn.preprocessing import StandardScaler\n",
    "scaler = StandardScaler()\n",
    "X_train_scaled = scaler.fit(X_train).transform(X_train)\n",
    "X_test_scaled = scaler.fit(X_test).transform(X_test)\n",
    "\n",
    "mlp = MLPClassifier(max_iter=1000, random_state=42)\n",
    "mlp.fit(X_train_scaled, y_train)\n",
    "\n",
    "print('acc for training data: {:.3f}'.format(mlp.score(X_train_scaled, y_train)))\n",
    "print('acc for test data: {:.3f}'.format(mlp.score(X_test_scaled, y_test)))\n",
    "print(\"Training set loss: %f\" % mlp.loss_)"
   ]
  },
  {
   "cell_type": "code",
   "execution_count": 15,
   "metadata": {},
   "outputs": [
    {
     "name": "stdout",
     "output_type": "stream",
     "text": [
      "acc on train dataset: 0.954\n",
      "acc on test dataset: 0.949\n"
     ]
    },
    {
     "name": "stderr",
     "output_type": "stream",
     "text": [
      "C:\\Users\\Yifan Wang\\Anaconda3\\lib\\site-packages\\sklearn\\svm\\base.py:196: FutureWarning: The default value of gamma will change from 'auto' to 'scale' in version 0.22 to account better for unscaled features. Set gamma explicitly to 'auto' or 'scale' to avoid this warning.\n",
      "  \"avoid this warning.\", FutureWarning)\n"
     ]
    }
   ],
   "source": [
    "from sklearn.svm import SVC \n",
    "svm= SVC()\n",
    "svm.fit(X_train, y_train)\n",
    "\n",
    "print('acc on train dataset: {:.3f}'.format(svm.score(X_train,y_train)))\n",
    "print('acc on test dataset: {:.3f}'.format(svm.score(X_test,y_test)))\n"
   ]
  },
  {
   "cell_type": "code",
   "execution_count": 16,
   "metadata": {},
   "outputs": [
    {
     "name": "stdout",
     "output_type": "stream",
     "text": [
      "acc on train dataset: 0.954\n",
      "acc on test dataset: 0.955\n"
     ]
    }
   ],
   "source": [
    "svm = SVC()\n",
    "svm.fit(X_train_scaled, y_train)\n",
    "print('acc on train dataset: {:.3f}'.format(svm.score(X_train_scaled,y_train)))\n",
    "print('acc on test dataset: {:.3f}'.format(svm.score(X_test_scaled,y_test)))"
   ]
  },
  {
   "cell_type": "code",
   "execution_count": 17,
   "metadata": {},
   "outputs": [
    {
     "name": "stdout",
     "output_type": "stream",
     "text": [
      "SVC(C=1000, cache_size=200, class_weight=None, coef0=0.0,\n",
      "  decision_function_shape='ovr', degree=3, gamma='auto_deprecated',\n",
      "  kernel='rbf', max_iter=-1, probability=False, random_state=None,\n",
      "  shrinking=True, tol=0.001, verbose=False)\n",
      "acc on train dataset: 0.954\n",
      "acc on test dataset: 0.955\n"
     ]
    }
   ],
   "source": [
    "svm = SVC(C=1000)\n",
    "print(svm.fit(X_train_scaled, y_train))\n",
    "print('acc on train dataset: {:.3f}'.format(svm.score(X_train_scaled,y_train)))\n",
    "print('acc on test dataset: {:.3f}'.format(svm.score(X_test_scaled,y_test)))"
   ]
  },
  {
   "cell_type": "code",
   "execution_count": 30,
   "metadata": {},
   "outputs": [
    {
     "data": {
      "image/png": "[encoded data removed]",
      "text/plain": [
       "<Figure size 432x288 with 1 Axes>"
      ]
     },
     "metadata": {
      "needs_background": "light"
     },
     "output_type": "display_data"
    }
   ],
   "source": [
    "from sklearn.metrics import roc_curve, auc\n",
    "from sklearn.preprocessing import label_binarize\n",
    "from sklearn.multiclass import OneVsRestClassifier\n",
    "y_test = label_binarize(y_test, classes=[0, 1])\n",
    "n_classes = y_test.shape[1]\n",
    "\n",
    "classifier = OneVsRestClassifier(tree) #log_reg #svm\n",
    "#y_score = classifier.fit(X_train, y_train).decision_function(X_test)\n",
    "#print(y_score.shape)\n",
    "#print(y_test.shape)\n",
    "\n",
    "fpr = dict()\n",
    "tpr = dict()\n",
    "roc_auc = dict()\n",
    "for i in range(1):\n",
    "    #fpr[i], tpr[i], _ = roc_curve(y_test[:, i], y_score[:])\n",
    "    fpr[i], tpr[i], _ = roc_curve(y_test[:, i], forest.predict_proba(X_test)[:,1]) #forest 和 mlp\n",
    "    roc_auc[i] = auc(fpr[i], tpr[i])\n",
    "\n",
    "#print(tpr)\n",
    "\n",
    "plt.figure()\n",
    "lw = 2\n",
    "plt.plot(fpr[0], tpr[0], color='darkorange',\n",
    "         lw=lw, label='ROC curve (area = %0.2f)' % roc_auc[0])\n",
    "plt.plot([0, 1], [0, 1], color='navy', lw=lw, linestyle='--')\n",
    "plt.xlim([-0.01, 1.0])\n",
    "plt.ylim([0.0, 1.01])\n",
    "plt.xlabel('False Positive Rate')\n",
    "plt.ylabel('True Positive Rate')\n",
    "plt.title('Receiver operating characteristic example')\n",
    "plt.legend(loc=\"lower right\")\n",
    "plt.show()"
   ]
  },
  {
   "cell_type": "code",
   "execution_count": 32,
   "metadata": {},
   "outputs": [
    {
     "name": "stderr",
     "output_type": "stream",
     "text": [
      "C:\\Users\\Yifan Wang\\Anaconda3\\lib\\site-packages\\sklearn\\svm\\base.py:196: FutureWarning: The default value of gamma will change from 'auto' to 'scale' in version 0.22 to account better for unscaled features. Set gamma explicitly to 'auto' or 'scale' to avoid this warning.\n",
      "  \"avoid this warning.\", FutureWarning)\n"
     ]
    },
    {
     "name": "stdout",
     "output_type": "stream",
     "text": [
      "(198,)\n",
      "(198, 1)\n"
     ]
    },
    {
     "data": {
      "image/png": "[encoded data removed]",
      "text/plain": [
       "<Figure size 432x288 with 1 Axes>"
      ]
     },
     "metadata": {
      "needs_background": "light"
     },
     "output_type": "display_data"
    }
   ],
   "source": [
    "from sklearn.metrics import roc_curve, auc\n",
    "from sklearn.preprocessing import label_binarize\n",
    "from sklearn.multiclass import OneVsRestClassifier\n",
    "y_test = label_binarize(y_test, classes=[0, 1])\n",
    "n_classes = y_test.shape[1]\n",
    "\n",
    "classifier = OneVsRestClassifier(svm) #log_reg #svm\n",
    "y_score = classifier.fit(X_train, y_train).decision_function(X_test)\n",
    "print(y_score.shape)\n",
    "print(y_test.shape)\n",
    "\n",
    "fpr = dict()\n",
    "tpr = dict()\n",
    "roc_auc = dict()\n",
    "for i in range(1):\n",
    "    fpr[i], tpr[i], _ = roc_curve(y_test[:, i], y_score[:])\n",
    "    \n",
    "    roc_auc[i] = auc(fpr[i], tpr[i])\n",
    "\n",
    "#print(tpr)\n",
    "\n",
    "plt.figure()\n",
    "lw = 2\n",
    "plt.plot(fpr[0], tpr[0], color='darkorange',\n",
    "         lw=lw, label='ROC curve (area = %0.2f)' % roc_auc[0])\n",
    "plt.plot([0, 1], [0, 1], color='navy', lw=lw, linestyle='--')\n",
    "plt.xlim([-0.01, 1.0])\n",
    "plt.ylim([0.0, 1.01])\n",
    "plt.xlabel('False Positive Rate')\n",
    "plt.ylabel('True Positive Rate')\n",
    "plt.title('Receiver operating characteristic example')\n",
    "plt.legend(loc=\"lower right\")\n",
    "plt.show()"
   ]
  },
  {
   "cell_type": "code",
   "execution_count": null,
   "metadata": {},
   "outputs": [],
   "source": []
  },
  {
   "cell_type": "code",
   "execution_count": null,
   "metadata": {},
   "outputs": [],
   "source": []
  },
  {
   "cell_type": "code",
   "execution_count": null,
   "metadata": {},
   "outputs": [],
   "source": []
  },
  {
   "cell_type": "code",
   "execution_count": null,
   "metadata": {},
   "outputs": [],
   "source": []
  },
  {
   "cell_type": "code",
   "execution_count": null,
   "metadata": {},
   "outputs": [],
   "source": []
  }
 ],
 "metadata": {
  "kernelspec": {
   "display_name": "Python 3",
   "language": "python",
   "name": "python3"
  },
  "language_info": {
   "codemirror_mode": {
    "name": "ipython",
    "version": 3
   },
   "file_extension": ".py",
   "mimetype": "text/x-python",
   "name": "python",
   "nbconvert_exporter": "python",
   "pygments_lexer": "ipython3",
   "version": "3.7.3"
  }
 },
 "nbformat": 4,
 "nbformat_minor": 2
}
